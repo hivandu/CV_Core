{
 "cells": [
  {
   "cell_type": "code",
   "execution_count": 1,
   "metadata": {},
   "outputs": [
    {
     "name": "stderr",
     "output_type": "stream",
     "text": [
      "/Users/du/miniforge3/envs/ml/lib/python3.9/site-packages/pytools/persistent_dict.py:63: RecommendedHashNotFoundWarning: Unable to import recommended hash 'siphash24.siphash13', falling back to 'hashlib.sha256'. Run 'python3 -m pip install siphash24' to install the recommended hash.\n",
      "  warn(\"Unable to import recommended hash 'siphash24.siphash13', \"\n"
     ]
    }
   ],
   "source": [
    "import numpy as np\n",
    "import pyopencl as cl"
   ]
  },
  {
   "cell_type": "code",
   "execution_count": 2,
   "metadata": {},
   "outputs": [],
   "source": [
    "# OpenCL Kernel\n",
    "kernel_code = '''\n",
    "__kernel void convolutionGPU(\n",
    "    __global float* output, __global float* input, __global float* filter, int filter_radius, int input_width, int input_height){\n",
    "        int col = get_global_id(1);\n",
    "        int row = get_global_id(0);\n",
    "        int idx = row + input_width * col;\n",
    "\n",
    "        int filter_width = 2 * filter_radius + 1;\n",
    "        if (row < input_width && col < input_height) { // 边界检查\n",
    "            float sum = 0;\n",
    "            float value = 0;\n",
    "            for (int i = -filter_radius; i  <= filter_radius; i++){\n",
    "                for (int j = -filter_radius; j <= filter_radius; j++) {\n",
    "                    int r = row + j;\n",
    "                    int c = col + j;\n",
    "                    if ( r < 0 || c < 0 || r >= input_width || c >= input_height) {\n",
    "                        value = 0;\n",
    "                    } else {\n",
    "                        int input_idx = r + c * input_width;\n",
    "                        value = input[input_idx];\n",
    "                    }\n",
    "                    int filter_idx = (i + filter_radius) + (j + filter_radius) * filter_width;\n",
    "                    sum += value * filter[filter_idx];\n",
    "                }\n",
    "            }\n",
    "            output[idx] = sum;\n",
    "        }\n",
    "    }\n",
    "'''"
   ]
  },
  {
   "cell_type": "code",
   "execution_count": 8,
   "metadata": {},
   "outputs": [],
   "source": [
    "def convolution_opencl(input, filter):\n",
    "    # OpenCL setup\n",
    "    platform = cl.get_platforms()[0]\n",
    "    device = platform.get_devices()[0]\n",
    "    context = cl.Context([device])\n",
    "    queue = cl.CommandQueue(context)\n",
    "\n",
    "    # Prepare data\n",
    "    filter_radius = np.int32(filter.shape[0] // 2)\n",
    "    input = np.float32(input)\n",
    "    filter = np.float32(filter)\n",
    "    output = np.empty_like(input)\n",
    "\n",
    "    input_width = np.int32(input.shape[1])\n",
    "    input_height = np.int32(input.shape[0])\n",
    "    # filter_width = np.int32(filter.shape[0])\n",
    "\n",
    "    # Allocate device memory\n",
    "    mf = cl.mem_flags\n",
    "    input_buf = cl.Buffer(context, mf.READ_ONLY | mf.COPY_HOST_PTR, hostbuf=input)\n",
    "    filter_buf = cl.Buffer(context, mf.READ_ONLY | mf.COPY_HOST_PTR, hostbuf=filter)\n",
    "    output_buf = cl.Buffer(context, mf.WRITE_ONLY, output.nbytes)\n",
    "\n",
    "    # Compile kernel\n",
    "    program = cl.Program(context, kernel_code).build()\n",
    "\n",
    "    # Execute kernel\n",
    "    global_size = (input_width, input_height)\n",
    "    local_size = None # Let OpenCL determine the best local size\n",
    "\n",
    "    program.convolutionGPU(queue, global_size, local_size, output_buf, input_buf, filter_buf, filter_radius, input_width, input_height)\n",
    "\n",
    "    # Copy result back to host\n",
    "    cl.enqueue_copy(queue, output, output_buf).wait()\n",
    "\n",
    "    return output"
   ]
  },
  {
   "cell_type": "code",
   "execution_count": 9,
   "metadata": {},
   "outputs": [],
   "source": [
    "def test_convolution_opencl():\n",
    "    input = np.array([[1,1,1,0,0], [0,1,1,1,0], [0,0,1,1,1], [0,0,1,1,0], [0,1,1,0,0]], dtype=np.float32)\n",
    "\n",
    "    print('Input:')\n",
    "    print(input)\n",
    "\n",
    "    filter = np.array([[1,0,1], [0,1,0], [1,0,1]], dtype=np.float32)\n",
    "\n",
    "    output = convolution_opencl(input, filter)\n",
    "    print('Done running the convolution kernel!')\n",
    "    print('Output:')\n",
    "    print(output)\n"
   ]
  },
  {
   "cell_type": "code",
   "execution_count": 10,
   "metadata": {},
   "outputs": [
    {
     "name": "stdout",
     "output_type": "stream",
     "text": [
      "Input:\n",
      "[[1. 1. 1. 0. 0.]\n",
      " [0. 1. 1. 1. 0.]\n",
      " [0. 0. 1. 1. 1.]\n",
      " [0. 0. 1. 1. 0.]\n",
      " [0. 1. 1. 0. 0.]]\n",
      "Done running the convolution kernel!\n",
      "Output:\n",
      "[[3. 3. 3. 0. 0.]\n",
      " [0. 5. 5. 5. 0.]\n",
      " [0. 2. 5. 3. 3.]\n",
      " [2. 2. 1. 3. 2.]\n",
      " [0. 1. 1. 2. 2.]]\n"
     ]
    }
   ],
   "source": [
    "test_convolution_opencl()"
   ]
  },
  {
   "cell_type": "code",
   "execution_count": null,
   "metadata": {},
   "outputs": [],
   "source": []
  }
 ],
 "metadata": {
  "kernelspec": {
   "display_name": "ml",
   "language": "python",
   "name": "python3"
  },
  "language_info": {
   "codemirror_mode": {
    "name": "ipython",
    "version": 3
   },
   "file_extension": ".py",
   "mimetype": "text/x-python",
   "name": "python",
   "nbconvert_exporter": "python",
   "pygments_lexer": "ipython3",
   "version": "3.9.16"
  }
 },
 "nbformat": 4,
 "nbformat_minor": 2
}
