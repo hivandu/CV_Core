{
 "cells": [
  {
   "cell_type": "code",
   "execution_count": 2,
   "metadata": {},
   "outputs": [
    {
     "name": "stdout",
     "output_type": "stream",
     "text": [
      "global_id_x = 0; local_id_x = 0; local_id_y = 0; local_id_z = 0;\n",
      "global_id_x = 1; local_id_x = 1; local_id_y = 0; local_id_z = 0;\n",
      "global_id_x = 2; local_id_x = 2; local_id_y = 0; local_id_z = 0;\n",
      "global_id_x = 3; local_id_x = 3; local_id_y = 0; local_id_z = 0;\n",
      "global_id_x = 4; local_id_x = 4; local_id_y = 0; local_id_z = 0;\n",
      "global_id_x = 5; local_id_x = 5; local_id_y = 0; local_id_z = 0;\n",
      "global_id_x = 0; local_id_x = 0; local_id_y = 1; local_id_z = 0;\n",
      "global_id_x = 1; local_id_x = 1; local_id_y = 1; local_id_z = 0;\n",
      "global_id_x = 2; local_id_x = 2; local_id_y = 1; local_id_z = 0;\n",
      "global_id_x = 3; local_id_x = 3; local_id_y = 1; local_id_z = 0;\n",
      "global_id_x = 4; local_id_x = 4; local_id_y = 1; local_id_z = 0;\n",
      "global_id_x = 5; local_id_x = 5; local_id_y = 1; local_id_z = 0;\n",
      "global_id_x = 0; local_id_x = 0; local_id_y = 2; local_id_z = 0;\n",
      "global_id_x = 1; local_id_x = 1; local_id_y = 2; local_id_z = 0;\n",
      "global_id_x = 2; local_id_x = 2; local_id_y = 2; local_id_z = 0;\n",
      "global_id_x = 3; local_id_x = 3; local_id_y = 2; local_id_z = 0;\n",
      "global_id_x = 4; local_id_x = 4; local_id_y = 2; local_id_z = 0;\n",
      "global_id_x = 5; local_id_x = 5; local_id_y = 2; local_id_z = 0;\n",
      "global_id_x = 6; local_id_x = 0; local_id_y = 0; local_id_z = 0;\n",
      "global_id_x = 7; local_id_x = 1; local_id_y = 0; local_id_z = 0;\n",
      "global_id_x = 8; local_id_x = 2; local_id_y = 0; local_id_z = 0;\n",
      "global_id_x = 9; local_id_x = 3; local_id_y = 0; local_id_z = 0;\n",
      "global_id_x = 10; local_id_x = 4; local_id_y = 0; local_id_z = 0;\n",
      "global_id_x = 11; local_id_x = 5; local_id_y = 0; local_id_z = 0;\n",
      "global_id_x = 6; local_id_x = 0; local_id_y = 1; local_id_z = 0;\n",
      "global_id_x = 7; local_id_x = 1; local_id_y = 1; local_id_z = 0;\n",
      "global_id_x = 8; local_id_x = 2; local_id_y = 1; local_id_z = 0;\n",
      "global_id_x = 9; local_id_x = 3; local_id_y = 1; local_id_z = 0;\n",
      "global_id_x = 10; local_id_x = 4; local_id_y = 1; local_id_z = 0;\n",
      "global_id_x = 11; local_id_x = 5; local_id_y = 1; local_id_z = 0;\n",
      "global_id_x = 6; local_id_x = 0; local_id_y = 2; local_id_z = 0;\n",
      "global_id_x = 7; local_id_x = 1; local_id_y = 2; local_id_z = 0;\n",
      "global_id_x = 8; local_id_x = 2; local_id_y = 2; local_id_z = 0;\n",
      "global_id_x = 9; local_id_x = 3; local_id_y = 2; local_id_z = 0;\n",
      "global_id_x = 10; local_id_x = 4; local_id_y = 2; local_id_z = 0;\n",
      "global_id_x = 11; local_id_x = 5; local_id_y = 2; local_id_z = 0;\n"
     ]
    }
   ],
   "source": [
    "import pyopencl as cl\n",
    "import numpy as np\n",
    "\n",
    "# 设置平台和设备（自动选择第一个设备）\n",
    "platform = cl.get_platforms()[0]\n",
    "device = platform.get_devices()[0]\n",
    "\n",
    "# 创建上下文和命令队列\n",
    "context = cl.Context([device])\n",
    "queue = cl.CommandQueue(context)\n",
    "\n",
    "# OpenCL 内核代码\n",
    "kernel_code = \"\"\"\n",
    "__kernel void print_id()\n",
    "{\n",
    "    int global_id_x = get_global_id(0);\n",
    "    int local_id_x = get_local_id(0);\n",
    "    int local_id_y = get_local_id(1);\n",
    "    int local_id_z = get_local_id(2);\n",
    "    printf(\"global_id_x = %d; local_id_x = %d; local_id_y = %d; local_id_z = %d;\\\\n\", \n",
    "           global_id_x, local_id_x, local_id_y, local_id_z);\n",
    "}\n",
    "\"\"\"\n",
    "\n",
    "# 编译内核代码\n",
    "program = cl.Program(context, kernel_code).build()\n",
    "\n",
    "# 定义 global 和 local work size\n",
    "global_size = (12, 3, 1)  # 相当于 CUDA 中的 grid=(2,1,1) 和 block=(6,3,1) 的组合\n",
    "local_size = (6, 3, 1)    # 对应 block 的线程配置\n",
    "\n",
    "# 调用 OpenCL 内核\n",
    "program.print_id(queue, global_size, local_size)\n",
    "\n",
    "# 完成队列中任务的执行\n",
    "queue.finish()"
   ]
  },
  {
   "cell_type": "code",
   "execution_count": null,
   "metadata": {},
   "outputs": [],
   "source": []
  }
 ],
 "metadata": {
  "kernelspec": {
   "display_name": "ml",
   "language": "python",
   "name": "python3"
  },
  "language_info": {
   "codemirror_mode": {
    "name": "ipython",
    "version": 3
   },
   "file_extension": ".py",
   "mimetype": "text/x-python",
   "name": "python",
   "nbconvert_exporter": "python",
   "pygments_lexer": "ipython3",
   "version": "3.9.16"
  }
 },
 "nbformat": 4,
 "nbformat_minor": 2
}
