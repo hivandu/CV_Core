{
 "cells": [
  {
   "cell_type": "markdown",
   "metadata": {},
   "source": [
    "# 9~12 作业代码"
   ]
  },
  {
   "cell_type": "code",
   "execution_count": 1,
   "metadata": {},
   "outputs": [],
   "source": [
    "import torch\n",
    "def generate_data():\n",
    "    # 本函数生成0-9，10个数字的图片矩阵\n",
    "    image_data=[]\n",
    "    num_0 = torch.tensor(\n",
    "    [[0,0,1,1,0,0],\n",
    "    [0,1,0,0,1,0],\n",
    "    [0,1,0,0,1,0],\n",
    "    [0,1,0,0,1,0],\n",
    "    [0,0,1,1,0,0],\n",
    "    [0,0,0,0,0,0]])\n",
    "    image_data.append(num_0)\n",
    "    num_1 = torch.tensor(\n",
    "    [[0,0,0,1,0,0],\n",
    "    [0,0,1,1,0,0],\n",
    "    [0,0,0,1,0,0],\n",
    "    [0,0,0,1,0,0],\n",
    "    [0,0,1,1,1,0],\n",
    "    [0,0,0,0,0,0]])\n",
    "    image_data.append(num_1)\n",
    "    num_2 = torch.tensor(\n",
    "    [[0,0,1,1,0,0],\n",
    "    [0,1,0,0,1,0],\n",
    "    [0,0,0,1,0,0],\n",
    "    [0,0,1,0,0,0],\n",
    "    [0,1,1,1,1,0],\n",
    "    [0,0,0,0,0,0]])\n",
    "    image_data.append(num_2)\n",
    "    num_3 = torch.tensor(\n",
    "    [[0,0,1,1,0,0],\n",
    "    [0,0,0,0,1,0],\n",
    "    [0,0,1,1,0,0],\n",
    "    [0,0,0,0,1,0],\n",
    "    [0,0,1,1,0,0],\n",
    "    [0,0,0,0,0,0]])\n",
    "    image_data.append(num_3)\n",
    "    num_4 = torch.tensor(\n",
    "    [\n",
    "    [0,0,0,0,1,0],\n",
    "    [0,0,0,1,1,0],\n",
    "    [0,0,1,0,1,0],\n",
    "    [0,1,1,1,1,1],\n",
    "    [0,0,0,0,1,0],\n",
    "    [0,0,0,0,0,0]])\n",
    "    image_data.append(num_4)\n",
    "    num_5 = torch.tensor(\n",
    "    [\n",
    "    [0,1,1,1,0,0],\n",
    "    [0,1,0,0,0,0],\n",
    "    [0,1,1,1,0,0],\n",
    "    [0,0,0,0,1,0],\n",
    "    [0,1,1,1,0,0],\n",
    "    [0,0,0,0,0,0]])\n",
    "    image_data.append(num_5)\n",
    "    num_6 = torch.tensor(\n",
    "    [[0,0,1,1,0,0],\n",
    "    [0,1,0,0,0,0],\n",
    "    [0,1,1,1,0,0],\n",
    "    [0,1,0,0,1,0],\n",
    "    [0,0,1,1,0,0],\n",
    "    [0,0,0,0,0,0]])\n",
    "    image_data.append(num_6)\n",
    "    num_7 = torch.tensor(\n",
    "    [\n",
    "    [0,1,1,1,1,0],\n",
    "    [0,0,0,0,1,0],\n",
    "    [0,0,0,1,0,0],\n",
    "    [0,0,0,1,0,0],\n",
    "    [0,0,0,1,0,0],\n",
    "    [0,0,0,0,0,0]])\n",
    "    image_data.append(num_7)\n",
    "    num_8 = torch.tensor(\n",
    "    [[0,0,1,1,0,0],\n",
    "    [0,1,0,0,1,0],\n",
    "    [0,0,1,1,0,0],\n",
    "    [0,1,0,0,1,0],\n",
    "    [0,0,1,1,0,0],\n",
    "    [0,0,0,0,0,0]])\n",
    "    image_data.append(num_8)\n",
    "    num_9 = torch.tensor(\n",
    "    [[0,0,1,1,1,0],\n",
    "    [0,1,0,0,1,0],\n",
    "    [0,0,1,1,1,0],\n",
    "    [0,1,0,0,1,0],\n",
    "    [0,0,0,0,1,0],\n",
    "    [0,0,0,0,0,0]])\n",
    "    image_data.append(num_9)\n",
    "    return image_data\n"
   ]
  },
  {
   "cell_type": "code",
   "execution_count": 2,
   "metadata": {},
   "outputs": [
    {
     "data": {
      "image/png": "[encoded data removed]",
      "text/plain": [
       "<Figure size 640x480 with 1 Axes>"
      ]
     },
     "metadata": {},
     "output_type": "display_data"
    }
   ],
   "source": [
    "import matplotlib.pyplot as plt\n",
    "img = generate_data()\n",
    "for i in range(len(img)):\n",
    "  plt.imshow(img[i], cmap='gray')"
   ]
  },
  {
   "cell_type": "code",
   "execution_count": 75,
   "metadata": {},
   "outputs": [],
   "source": [
    "def get_feature(x):\n",
    "    return torch.sum(x, 0) + torch.sum(x, 1)"
   ]
  },
  {
   "cell_type": "code",
   "execution_count": 87,
   "metadata": {},
   "outputs": [
    {
     "name": "stdout",
     "output_type": "stream",
     "text": [
      "tensor([0, 3, 2, 2, 3, 0])\n",
      "tensor([[0, 0, 1, 1, 0, 0],\n",
      "        [0, 1, 0, 0, 1, 0],\n",
      "        [0, 1, 0, 0, 1, 0],\n",
      "        [0, 1, 0, 0, 1, 0],\n",
      "        [0, 0, 1, 1, 0, 0],\n",
      "        [0, 0, 0, 0, 0, 0]])\n"
     ]
    }
   ],
   "source": [
    "x = img[0]\n",
    "\n",
    "print(torch.sum(x, 0))\n",
    "print(x)"
   ]
  },
  {
   "cell_type": "code",
   "execution_count": 89,
   "metadata": {},
   "outputs": [
    {
     "name": "stdout",
     "output_type": "stream",
     "text": [
      "tensor([2, 5, 4, 4, 5, 0])\n",
      "tensor([2, 4, 6, 5, 3, 0])\n"
     ]
    }
   ],
   "source": [
    "print(get_feature(x))\n",
    "print(get_feature(img[6]))"
   ]
  },
  {
   "cell_type": "code",
   "execution_count": 78,
   "metadata": {},
   "outputs": [],
   "source": [
    "i=0"
   ]
  },
  {
   "cell_type": "markdown",
   "metadata": {},
   "source": [
    "# cmap color map"
   ]
  },
  {
   "cell_type": "code",
   "execution_count": 79,
   "metadata": {},
   "outputs": [
    {
     "name": "stdout",
     "output_type": "stream",
     "text": [
      "tensor([2, 5, 4, 4, 5, 0])\n"
     ]
    },
    {
     "data": {
      "image/png": "[encoded data removed]",
      "text/plain": [
       "<Figure size 640x480 with 1 Axes>"
      ]
     },
     "metadata": {},
     "output_type": "display_data"
    }
   ],
   "source": [
    "plt.imshow(img[i%10], cmap='gray')\n",
    "print(get_feature(img[i%10]))\n",
    "i = i+1"
   ]
  },
  {
   "cell_type": "code",
   "execution_count": 90,
   "metadata": {},
   "outputs": [],
   "source": [
    "\n",
    "def model(x, img):\n",
    "    y=-1\n",
    "    for i in range(0, 10):\n",
    "        diff_feature = get_feature(x) - get_feature(img[i])\n",
    "        if torch.sum(torch.abs(diff_feature)) == 0:\n",
    "            y = i\n",
    "            break\n",
    "    print('输出 x 为：\\n {}, \\n 输出 x 的类别为 {}'.format(x, y))\n",
    "\n",
    "    return y"
   ]
  },
  {
   "cell_type": "code",
   "execution_count": 91,
   "metadata": {},
   "outputs": [
    {
     "name": "stdout",
     "output_type": "stream",
     "text": [
      "输出 x 为：\n",
      " tensor([[0, 0, 1, 1, 0, 0],\n",
      "        [0, 1, 0, 0, 1, 0],\n",
      "        [0, 0, 0, 1, 0, 0],\n",
      "        [0, 0, 1, 0, 0, 0],\n",
      "        [0, 1, 1, 1, 1, 0],\n",
      "        [0, 0, 0, 0, 0, 0]]), \n",
      " 输出 x 的类别为 2\n",
      "输出 x 为：\n",
      " tensor([[0, 0, 1, 1, 0, 0],\n",
      "        [0, 1, 0, 0, 1, 0],\n",
      "        [0, 0, 1, 1, 0, 0],\n",
      "        [0, 1, 0, 0, 1, 0],\n",
      "        [0, 0, 1, 1, 0, 0],\n",
      "        [0, 0, 0, 0, 0, 0]]), \n",
      " 输出 x 的类别为 8\n"
     ]
    },
    {
     "data": {
      "text/plain": [
       "8"
      ]
     },
     "execution_count": 91,
     "metadata": {},
     "output_type": "execute_result"
    }
   ],
   "source": [
    "model(img[2], img)\n",
    "model(img[8], img)"
   ]
  },
  {
   "cell_type": "code",
   "execution_count": 82,
   "metadata": {},
   "outputs": [
    {
     "name": "stdout",
     "output_type": "stream",
     "text": [
      "数字2对应的图片是:\n",
      "tensor([[0, 0, 1, 1, 0, 0],\n",
      "        [0, 1, 0, 0, 1, 0],\n",
      "        [0, 0, 0, 1, 0, 0],\n",
      "        [0, 0, 1, 0, 0, 0],\n",
      "        [0, 1, 1, 1, 1, 0],\n",
      "        [0, 0, 0, 0, 0, 0]])\n",
      "--------------------\n",
      "数字8对应的图片是:\n",
      "tensor([[0, 0, 1, 1, 0, 0],\n",
      "        [0, 1, 0, 0, 1, 0],\n",
      "        [0, 0, 1, 1, 0, 0],\n",
      "        [0, 1, 0, 0, 1, 0],\n",
      "        [0, 0, 1, 1, 0, 0],\n",
      "        [0, 0, 0, 0, 0, 0]])\n",
      "--------------------\n",
      "对每张图片进行识别\n",
      "tensor([0, 0, 0, 0, 0, 0])\n",
      "输出 x 为：\n",
      " tensor([[0, 0, 1, 1, 0, 0],\n",
      "        [0, 1, 0, 0, 1, 0],\n",
      "        [0, 1, 0, 0, 1, 0],\n",
      "        [0, 1, 0, 0, 1, 0],\n",
      "        [0, 0, 1, 1, 0, 0],\n",
      "        [0, 0, 0, 0, 0, 0]]), \n",
      " 输出 x 的类别为 0\n",
      "图像[0]得分类结果是:[0],它得特征是[tensor([2, 5, 4, 4, 5, 0])]\n",
      "tensor([-1, -3, -1,  2, -1,  0])\n",
      "tensor([0, 0, 0, 0, 0, 0])\n",
      "输出 x 为：\n",
      " tensor([[0, 0, 0, 1, 0, 0],\n",
      "        [0, 0, 1, 1, 0, 0],\n",
      "        [0, 0, 0, 1, 0, 0],\n",
      "        [0, 0, 0, 1, 0, 0],\n",
      "        [0, 0, 1, 1, 1, 0],\n",
      "        [0, 0, 0, 0, 0, 0]]), \n",
      " 输出 x 的类别为 1\n",
      "图像[1]得分类结果是:[1],它得特征是[tensor([1, 2, 3, 6, 4, 0])]\n",
      "tensor([ 0, -1,  0,  0,  1,  0])\n",
      "tensor([ 1,  2,  1, -2,  2,  0])\n",
      "tensor([0, 0, 0, 0, 0, 0])\n",
      "输出 x 为：\n",
      " tensor([[0, 0, 1, 1, 0, 0],\n",
      "        [0, 1, 0, 0, 1, 0],\n",
      "        [0, 0, 0, 1, 0, 0],\n",
      "        [0, 0, 1, 0, 0, 0],\n",
      "        [0, 1, 1, 1, 1, 0],\n",
      "        [0, 0, 0, 0, 0, 0]]), \n",
      " 输出 x 的类别为 2\n",
      "图像[2]得分类结果是:[2],它得特征是[tensor([2, 4, 4, 4, 6, 0])]\n",
      "tensor([ 0, -4,  1,  0, -1,  0])\n",
      "tensor([ 1, -1,  2, -2,  0,  0])\n",
      "tensor([ 0, -3,  1,  0, -2,  0])\n",
      "tensor([0, 0, 0, 0, 0, 0])\n",
      "输出 x 为：\n",
      " tensor([[0, 0, 1, 1, 0, 0],\n",
      "        [0, 0, 0, 0, 1, 0],\n",
      "        [0, 0, 1, 1, 0, 0],\n",
      "        [0, 0, 0, 0, 1, 0],\n",
      "        [0, 0, 1, 1, 0, 0],\n",
      "        [0, 0, 0, 0, 0, 0]]), \n",
      " 输出 x 的类别为 3\n",
      "图像[3]得分类结果是:[3],它得特征是[tensor([2, 1, 5, 4, 4, 0])]\n",
      "tensor([-1, -2,  0,  3,  1,  1])\n",
      "tensor([0, 1, 1, 1, 2, 1])\n",
      "tensor([-1, -1,  0,  3,  0,  1])\n",
      "tensor([-1,  2, -1,  3,  2,  1])\n",
      "tensor([0, 0, 0, 0, 0, 0])\n",
      "输出 x 为：\n",
      " tensor([[0, 0, 0, 0, 1, 0],\n",
      "        [0, 0, 0, 1, 1, 0],\n",
      "        [0, 0, 1, 0, 1, 0],\n",
      "        [0, 1, 1, 1, 1, 1],\n",
      "        [0, 0, 0, 0, 1, 0],\n",
      "        [0, 0, 0, 0, 0, 0]]), \n",
      " 输出 x 的类别为 4\n",
      "图像[4]得分类结果是:[4],它得特征是[tensor([1, 3, 4, 7, 6, 1])]\n",
      "tensor([ 1,  0,  2,  0, -1,  0])\n",
      "tensor([ 2,  3,  3, -2,  0,  0])\n",
      "tensor([ 1,  1,  2,  0, -2,  0])\n",
      "tensor([1, 4, 1, 0, 0, 0])\n",
      "tensor([ 2,  2,  2, -3, -2, -1])\n",
      "tensor([0, 0, 0, 0, 0, 0])\n",
      "输出 x 为：\n",
      " tensor([[0, 1, 1, 1, 0, 0],\n",
      "        [0, 1, 0, 0, 0, 0],\n",
      "        [0, 1, 1, 1, 0, 0],\n",
      "        [0, 0, 0, 0, 1, 0],\n",
      "        [0, 1, 1, 1, 0, 0],\n",
      "        [0, 0, 0, 0, 0, 0]]), \n",
      " 输出 x 的类别为 5\n",
      "图像[5]得分类结果是:[5],它得特征是[tensor([3, 5, 6, 4, 4, 0])]\n",
      "tensor([ 0, -1,  2,  1, -2,  0])\n",
      "tensor([ 1,  2,  3, -1, -1,  0])\n",
      "tensor([ 0,  0,  2,  1, -3,  0])\n",
      "tensor([ 0,  3,  1,  1, -1,  0])\n",
      "tensor([ 1,  1,  2, -2, -3, -1])\n",
      "tensor([-1, -1,  0,  1, -1,  0])\n",
      "tensor([0, 0, 0, 0, 0, 0])\n",
      "输出 x 为：\n",
      " tensor([[0, 0, 1, 1, 0, 0],\n",
      "        [0, 1, 0, 0, 0, 0],\n",
      "        [0, 1, 1, 1, 0, 0],\n",
      "        [0, 1, 0, 0, 1, 0],\n",
      "        [0, 0, 1, 1, 0, 0],\n",
      "        [0, 0, 0, 0, 0, 0]]), \n",
      " 输出 x 的类别为 6\n",
      "图像[6]得分类结果是:[6],它得特征是[tensor([2, 4, 6, 5, 3, 0])]\n",
      "tensor([ 2, -3, -2,  1, -2,  0])\n",
      "tensor([ 3,  0, -1, -1, -1,  0])\n",
      "tensor([ 2, -2, -2,  1, -3,  0])\n",
      "tensor([ 2,  1, -3,  1, -1,  0])\n",
      "tensor([ 3, -1, -2, -2, -3, -1])\n",
      "tensor([ 1, -3, -4,  1, -1,  0])\n",
      "tensor([ 2, -2, -4,  0,  0,  0])\n",
      "tensor([0, 0, 0, 0, 0, 0])\n",
      "输出 x 为：\n",
      " tensor([[0, 1, 1, 1, 1, 0],\n",
      "        [0, 0, 0, 0, 1, 0],\n",
      "        [0, 0, 0, 1, 0, 0],\n",
      "        [0, 0, 0, 1, 0, 0],\n",
      "        [0, 0, 0, 1, 0, 0],\n",
      "        [0, 0, 0, 0, 0, 0]]), \n",
      " 输出 x 的类别为 7\n",
      "图像[7]得分类结果是:[7],它得特征是[tensor([4, 2, 2, 5, 3, 0])]\n",
      "tensor([ 0, -1,  1,  1, -1,  0])\n",
      "tensor([ 1,  2,  2, -1,  0,  0])\n",
      "tensor([ 0,  0,  1,  1, -2,  0])\n",
      "tensor([0, 3, 0, 1, 0, 0])\n",
      "tensor([ 1,  1,  1, -2, -2, -1])\n",
      "tensor([-1, -1, -1,  1,  0,  0])\n",
      "tensor([ 0,  0, -1,  0,  1,  0])\n",
      "tensor([-2,  2,  3,  0,  1,  0])\n",
      "tensor([0, 0, 0, 0, 0, 0])\n",
      "输出 x 为：\n",
      " tensor([[0, 0, 1, 1, 0, 0],\n",
      "        [0, 1, 0, 0, 1, 0],\n",
      "        [0, 0, 1, 1, 0, 0],\n",
      "        [0, 1, 0, 0, 1, 0],\n",
      "        [0, 0, 1, 1, 0, 0],\n",
      "        [0, 0, 0, 0, 0, 0]]), \n",
      " 输出 x 的类别为 8\n",
      "图像[8]得分类结果是:[8],它得特征是[tensor([2, 4, 5, 5, 4, 0])]\n",
      "tensor([ 1, -1,  1,  0,  1,  0])\n",
      "tensor([ 2,  2,  2, -2,  2,  0])\n",
      "tensor([1, 0, 1, 0, 0, 0])\n",
      "tensor([1, 3, 0, 0, 2, 0])\n",
      "tensor([ 2,  1,  1, -3,  0, -1])\n",
      "tensor([ 0, -1, -1,  0,  2,  0])\n",
      "tensor([ 1,  0, -1, -1,  3,  0])\n",
      "tensor([-1,  2,  3, -1,  3,  0])\n",
      "tensor([ 1,  0,  0, -1,  2,  0])\n",
      "tensor([0, 0, 0, 0, 0, 0])\n",
      "输出 x 为：\n",
      " tensor([[0, 0, 1, 1, 1, 0],\n",
      "        [0, 1, 0, 0, 1, 0],\n",
      "        [0, 0, 1, 1, 1, 0],\n",
      "        [0, 1, 0, 0, 1, 0],\n",
      "        [0, 0, 0, 0, 1, 0],\n",
      "        [0, 0, 0, 0, 0, 0]]), \n",
      " 输出 x 的类别为 9\n",
      "图像[9]得分类结果是:[9],它得特征是[tensor([3, 4, 5, 4, 6, 0])]\n"
     ]
    }
   ],
   "source": [
    "if __name__==\"__main__\":\n",
    "    \n",
    "    image_data = generate_data()\n",
    "    \n",
    "    # 打印出0的图像\n",
    "    print(\"数字2对应的图片是:\")\n",
    "    print(image_data[2])\n",
    "    print(\"-\"*20)\n",
    "    \n",
    "    # 打印出8的图像\n",
    "    print(\"数字8对应的图片是:\")\n",
    "    print(image_data[8])\n",
    "    print(\"-\"*20)\n",
    "    \n",
    "    #对每张图片进行识别\n",
    "    print(\"对每张图片进行识别\")\n",
    "    \n",
    "    for i in range(0,10):\n",
    "        x = image_data[i]\n",
    "\t#对当前图片提取特征\n",
    "        feature = get_feature(x)\n",
    "        # 对提取到得特征进行分类\n",
    "        y = model(x, image_data)\n",
    "\t#打印出分类结果\n",
    "        print(\"图像[%s]得分类结果是:[%s],它得特征是[%s]\"%(i,y,feature))\n",
    "\n"
   ]
  },
  {
   "cell_type": "code",
   "execution_count": null,
   "metadata": {},
   "outputs": [],
   "source": []
  }
 ],
 "metadata": {
  "kernelspec": {
   "display_name": "ml",
   "language": "python",
   "name": "python3"
  },
  "language_info": {
   "codemirror_mode": {
    "name": "ipython",
    "version": 3
   },
   "file_extension": ".py",
   "mimetype": "text/x-python",
   "name": "python",
   "nbconvert_exporter": "python",
   "pygments_lexer": "ipython3",
   "version": "3.9.16"
  }
 },
 "nbformat": 4,
 "nbformat_minor": 2
}
